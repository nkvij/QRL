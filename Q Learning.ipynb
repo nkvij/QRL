{
 "cells": [
  {
   "cell_type": "code",
   "execution_count": 1,
   "metadata": {
    "id": "p7gIFf3pZ12p"
   },
   "outputs": [],
   "source": [
    "import numpy as np\n",
    "import pandas as pd\n",
    "import math\n",
    "import random\n",
    "import matplotlib.pyplot as plt\n",
    "random.seed = 69"
   ]
  },
  {
   "cell_type": "code",
   "execution_count": 2,
   "metadata": {
    "id": "qrsUJa0JSce8"
   },
   "outputs": [],
   "source": [
    "def egreedy(s, Q, epsilon):\n",
    "    vals = Q[s]\n",
    "    inds = vals!= np.ma.masked\n",
    "    acts = np.array([0, 1, 2, 3])\n",
    "    acts = acts[inds]\n",
    "    p = np.random.rand()\n",
    "    \n",
    "    if p < epsilon:\n",
    "        u = np.random.choice(acts, 1)\n",
    "        return u[0]\n",
    "    else:\n",
    "        return np.argmax(vals)\n",
    "\n",
    "def learn(Q, s, s_prime, a, envt, lr, gamma):\n",
    "    pred = Q[s, a]\n",
    "    targ = envt[s_prime] - 2 + gamma*np.max(Q[s_prime]) # s or s_prime\n",
    "    Q[s, a] = Q[s, a] + lr*(targ - pred)\n",
    "    return Q\n",
    "\n",
    "def makeEnvt(M, N):\n",
    "    envt = np.zeros(N**2)\n",
    "    holes = random.sample(range(1, N**2-1), M)\n",
    "    for i in range(N**2):\n",
    "        if i in holes:\n",
    "            envt[i] = -100\n",
    "    envt[N**2 - 1] = 100\n",
    "    return envt\n",
    "\n",
    "def play(Q, envt, lr, gamma, epsilon, N):\n",
    "    s = 0\n",
    "    tot_rew = 0\n",
    "    steps = 0\n",
    "    while (s != N**2 - 1):\n",
    "        steps = steps + 1\n",
    "        a = egreedy(s, Q, epsilon)\n",
    "#         print(\"state = \",s, \"action = \", a)\n",
    "        if a == 0:\n",
    "            s_prime = s - N\n",
    "        elif a == 1:\n",
    "            s_prime = s + 1\n",
    "        elif a == 2:\n",
    "            s_prime = s + N\n",
    "        else:\n",
    "            s_prime = s - 1\n",
    "        # print(s, a, s_prime)\n",
    "        tot_rew += envt[s_prime]\n",
    "        Q = learn(Q, s, s_prime, a, envt, lr, gamma)\n",
    "        s = s_prime\n",
    "        \n",
    "    return Q, tot_rew, steps"
   ]
  },
  {
   "cell_type": "code",
   "execution_count": 3,
   "metadata": {
    "colab": {
     "base_uri": "https://localhost:8080/",
     "height": 1000
    },
    "id": "_ae8MWCpgG80",
    "outputId": "ac445569-89f4-4bc9-99cd-be114f857509"
   },
   "outputs": [
    {
     "name": "stdout",
     "output_type": "stream",
     "text": [
      "[[   0.    0.    0.    0.]\n",
      " [   0.    0.    0.    0.]\n",
      " [-100.    0. -100.    0.]\n",
      " [-100.    0.    0.  100.]]\n"
     ]
    },
    {
     "data": {
      "image/png": "[encoded data removed]",
      "text/plain": [
       "<Figure size 432x288 with 1 Axes>"
      ]
     },
     "metadata": {
      "needs_background": "light"
     },
     "output_type": "display_data"
    },
    {
     "data": {
      "image/png": "[encoded data removed]",
      "text/plain": [
       "<Figure size 432x288 with 1 Axes>"
      ]
     },
     "metadata": {
      "needs_background": "light"
     },
     "output_type": "display_data"
    }
   ],
   "source": [
    "N = 4\n",
    "M = 3\n",
    "lr = 0.06\n",
    "gamma = 0.99\n",
    "epsilon = 0.01\n",
    "rews = []\n",
    "\n",
    "envt = np.genfromtxt('env.csv', delimiter = ',')\n",
    "# envt = makeEnvt(M, N)\n",
    "print(np.reshape(envt, (N, N)))\n",
    "rewards = []\n",
    "for u in range(1):\n",
    "    Q = np.ma.zeros((N**2, 4))\n",
    "    for i in range(N**2):\n",
    "        if i%N == 0:                       # move left\n",
    "            Q[i,3] = np.ma.masked\n",
    "        if (i+1)%N == 0:             # move right\n",
    "            Q[i,1] = np.ma.masked\n",
    "        if i < N:                       # move up\n",
    "            Q[i,0] = np.ma.masked\n",
    "        if i >= N*(N-1):                     # move down\n",
    "            Q[i,2] = np.ma.masked        \n",
    "    rews = []\n",
    "    steps = []\n",
    "    episodes = 100\n",
    "    for t in range(episodes):\n",
    "#         print(u,t)\n",
    "        Q, rew, step = play(Q, envt, lr, gamma, epsilon, N)\n",
    "        rews.append(rew)\n",
    "        steps.append(step)\n",
    "    rewards.append(rews)\n",
    "\n",
    "rewards = np.array(rewards)\n",
    "rewards = np.mean(rewards, 0)\n",
    "plt.plot(range(episodes), steps)\n",
    "plt.xlabel('# of episodes', fontsize = 15)\n",
    "plt.ylabel('# of steps', fontsize = 15)\n",
    "\n",
    "plt.figure()\n",
    "plt.plot(rewards)\n",
    "plt.xlabel('# of episodes', fontsize = 15)\n",
    "plt.ylabel('Total reward in episode', fontsize = 15)\n",
    "\n",
    "\n",
    "plt.show()"
   ]
  }
 ],
 "metadata": {
  "colab": {
   "collapsed_sections": [],
   "name": "17816497_ass2_q2a-c.ipynb",
   "provenance": []
  },
  "kernelspec": {
   "display_name": "Python 3",
   "language": "python",
   "name": "python3"
  },
  "language_info": {
   "codemirror_mode": {
    "name": "ipython",
    "version": 3
   },
   "file_extension": ".py",
   "mimetype": "text/x-python",
   "name": "python",
   "nbconvert_exporter": "python",
   "pygments_lexer": "ipython3",
   "version": "3.8.3"
  }
 },
 "nbformat": 4,
 "nbformat_minor": 1
}
